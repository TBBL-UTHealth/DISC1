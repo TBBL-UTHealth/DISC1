{
 "cells": [
  {
   "cell_type": "markdown",
   "id": "4fe7c7a3",
   "metadata": {},
   "source": [
    "# Sensing Local Field Potentials with a Directional and Scalable Depth Array: the DISC electrode array\n",
    "## Supplemental Figure 2\n",
    "- Associated data: Supp fig 2\n",
    "- Link: (nature excel link)\n",
    "\n",
    "## Description:\n",
    "#### This module does the following:\n",
    "#### Identical to figure 2 code, but only logs the 2mm ring. Is combined with the fig 2 data to create supp. fig 2.\n",
    "1. Reads .csv data from ANSYS, logging what becomes the peak voltage at each electrode, for each source.\n",
    "2. Creates sine wave at a specified 16.67 Hz, phase=0 for the source of interest, and a random frequency (40-150 Hz) and phase for all others.\n",
    "3. Repeat above for all electrodes using the voltage for each.\n",
    "4. Add (via superposition) the voltage at each timepoint for each electrode.\n",
    "5. Add gaussian-distributed noise to the electrode at each timepoint.\n",
    "6. Calculate SNR for each trial\n",
    "7. Plot resulting SNR for all trials and first trial\n",
    "- Input: ANSYS .csv output \n",
    "- Output: .eps file containing the 2mm ring data for Supp Fig. 2"
   ]
  },
  {
   "cell_type": "markdown",
   "id": "615d476d",
   "metadata": {},
   "source": [
    "# Settings"
   ]
  },
  {
   "cell_type": "code",
   "execution_count": 1,
   "id": "dc5cdfd0",
   "metadata": {},
   "outputs": [],
   "source": [
    "import pandas as pd\n",
    "import matplotlib.pyplot as plt\n",
    "import matplotlib.projections as proj\n",
    "import random as rand # Source: https://docs.python.org/3/library/random.html\n",
    "import numpy as np"
   ]
  },
  {
   "cell_type": "markdown",
   "id": "08261b3b",
   "metadata": {},
   "source": [
    "# Variables/Data"
   ]
  },
  {
   "cell_type": "code",
   "execution_count": 2,
   "id": "c55bc9e1",
   "metadata": {},
   "outputs": [],
   "source": [
    "macro_data_path = '/home/jovyan/ansys_data/supp-fig-1-final.csv'\n",
    "macro_data_path = '/home/jovyan/ansys_data/8-source-debug/2mm-macro-final.csv'\n",
    "waveforms_snr_source_index = 0\n",
    "macro_rms_noise = 2.7 #uV\n",
    "num_columns = 8\n",
    "num_rows = 12\n",
    "num_trials = 50\n",
    "snr_averages = 5\n",
    "sample_period = 0.25 #ms\n",
    "end_time = 60 #ms"
   ]
  },
  {
   "cell_type": "markdown",
   "id": "02ccee06",
   "metadata": {},
   "source": [
    "# Methods"
   ]
  },
  {
   "cell_type": "markdown",
   "id": "305cb5cd",
   "metadata": {},
   "source": [
    "## Create waveforms\n",
    "- Function to create waveforms from the amplitude of each signal.\n",
    "- Returns 'waveforms_trials', which is a 3D array. \n",
    "- Axis 0 is a \"sheet\", for each trial.\n",
    "- Axis 1 is the waveform for each source.\n",
    "- Axis 2 is the value at each timepoint."
   ]
  },
  {
   "cell_type": "code",
   "execution_count": 3,
   "id": "ec62d6be",
   "metadata": {},
   "outputs": [],
   "source": [
    "def create_waveforms(data_arr, rms_noise, signal_index):\n",
    "    waveforms_trials = []\n",
    "    waveforms = []\n",
    "    max_index = np.argmax(data_arr[signal_index])\n",
    "    \n",
    "    for _ in range(num_trials):\n",
    "        waveforms.clear()\n",
    "        #Always want source we're looking at to be in phase & f=1\n",
    "        start_phase = rand.randrange(-90, -60, 1) #This way, every waveform is at least f=4f\n",
    "        stop_phase = rand.randrange(20, 90, 1) #So, from 4f to 9f\n",
    "        \n",
    "        for idx, row in enumerate(data_arr): #each row is a source\n",
    "            new_waveform = []\n",
    "            if idx == signal_index:\n",
    "                start_phase, stop_phase = 0, 20\n",
    "            for phase in np.linspace(start_phase, stop_phase, int(end_time / sample_period)): #loop without pi for easier math. Mult. after. Linspace = (start, stop, #pts)\n",
    "                #Use max/2 for peak-to-trough voltage\n",
    "                new_waveform.append((row[max_index])*np.sin((phase*0.1)*np.pi)) #Want to use the same electrode. \n",
    "            waveforms.append(new_waveform.copy()) #Add each waveform to the array (trial x)\n",
    "            #New params for next source\n",
    "            start_phase = rand.randrange(-90, -60, 1) #This way, every waveform is at least f=4f\n",
    "            stop_phase = rand.randrange(20, 90, 1) #So, from 4f to 9f\n",
    "        #Append trial as array, start next trial\n",
    "        waveforms_trials.append(waveforms.copy()) #Add each trial to the array (all waveforms)\n",
    "        #add same noise to all sources, at each trial & each time point\n",
    "    wfms_srcs_trials = np.array(waveforms_trials)\n",
    "    for trial in wfms_srcs_trials:\n",
    "        for time in range(int(end_time/sample_period)):\n",
    "            trial[:, time] = np.add(trial[:,time], rand.gauss(mu=0, sigma=rms_noise))\n",
    "    \n",
    "    return wfms_srcs_trials"
   ]
  },
  {
   "cell_type": "markdown",
   "id": "6f882549",
   "metadata": {},
   "source": [
    "## Create CAR Waveforms\n",
    "- now we need a wfm for every electrode for CAR.\n",
    "- Will create a wfm just for this, and only track the max electrode. Keep frequency same for all\n",
    "- So, when we pass to SNR calculation function, need to only have that output\n",
    "- Returns the same output as \"create_waveforms\" function. We do not need to keep track of all electrodes forever, just for CAR"
   ]
  },
  {
   "cell_type": "code",
   "execution_count": 4,
   "id": "8dce7aa8",
   "metadata": {},
   "outputs": [],
   "source": [
    "def create_car_waveforms(data_arr, rms_noise, signal_index, num_electrodes):\n",
    "    waveforms_trials = [] #contains the CAR'd waveforms per source. NOTE: CAR is computed over ALL sources.\n",
    "    waveforms = []\n",
    "    new_waveform = [] #this is actually the resulting wfm of *all* electrodes\n",
    "    waveform_per_electrode = []\n",
    "    max_index = np.argmax(data_arr[signal_index])\n",
    "    \n",
    "    for _ in range(num_trials):\n",
    "        waveforms = []\n",
    " \n",
    "        for idx, row in enumerate(data_arr): #each row is a source\n",
    "            new_waveform = []\n",
    "            #Always want source we're looking at to be in phase & f=1\n",
    "            #can't do floats for rand.randrange() routine, so just multiply by 0.1 later\n",
    "            if idx == signal_index:\n",
    "                start_phase, stop_phase = 0, 20 #from 0 to 2pi\n",
    "            else:\n",
    "                #If not the signal, make random\n",
    "                start_phase = rand.randrange(-90, -60, 1) #This way, every waveform is at least f=4f\n",
    "                stop_phase = rand.randrange(20, 90, 1) #So, from 4f to 9f\n",
    "            for phase in np.linspace(start_phase, stop_phase, int(end_time / sample_period)): #loop without pi for easier math. Mult. after. Linspace = (start, stop, #pts)\n",
    "                #Use max/2 for peak-to-trough voltage\n",
    "                waveform_per_electrode = []\n",
    "                for e_index in range(num_electrodes):\n",
    "                    elec_val = (row[e_index])*np.sin((phase*0.1)*np.pi) #Want to use the same electrode. \n",
    "                    waveform_per_electrode.append(elec_val.copy())\n",
    "                new_waveform.append(waveform_per_electrode.copy())\n",
    "            waveforms.append(new_waveform.copy()) #Add each waveform (array, per electrode) to the array (trial x)\n",
    "\n",
    "        #waveforms is a 3D array (source, time, electrode). \n",
    "        waveforms = np.array(waveforms)\n",
    "        for idx1,row in enumerate(waveforms[0]):\n",
    "            for idx2,val in enumerate(row):\n",
    "                waveforms[:,idx1,idx2] += rand.gauss(mu=0, sigma=rms_noise)\n",
    "        wfms_avg_ref_per_time = np.mean(waveforms, axis=2, keepdims=True) #get 2D array of avg at each source, time (source, time, electrode)\n",
    "        \n",
    "        #subtract this avg value from \"waveforms\"\n",
    "        waveforms = np.subtract(waveforms, wfms_avg_ref_per_time)\n",
    "        max_electrode_values = waveforms[signal_index, :, max_index]\n",
    "        max_electrode_values = np.reshape(max_electrode_values, (1, max_electrode_values.size, 1))\n",
    "        waveforms = np.add(waveforms, max_electrode_values / num_electrodes)\n",
    "        \n",
    "        #Append trial (only max electrode) as array, start next trial\n",
    "        waveforms_trials.append(waveforms[:, :, max_index]) #Add each trial to the array (all waveforms, only best electrode)\n",
    "\n",
    "    np_wfms_trials = np.array(waveforms_trials)\n",
    "    return np_wfms_trials"
   ]
  },
  {
   "cell_type": "markdown",
   "id": "ab8f63f9",
   "metadata": {},
   "source": [
    "## Calculate SNR (each trial)\n",
    "- Function to calculate SNR of the waveforms at each successive averaged trial.\n",
    "- Takes waveforms_trials and source_index (which row is the source?) as arguments.\n",
    "- Returns \"snr_vec\", which is the SNR of each trial. Size [(#trials) x 1]."
   ]
  },
  {
   "cell_type": "code",
   "execution_count": 5,
   "id": "49ef944f",
   "metadata": {},
   "outputs": [],
   "source": [
    "def calculate_snr_each_trial(waveforms_trials, source_index, rms_noise):\n",
    "    snr_vec, signal_vec, noise_vec = [], [], []\n",
    "    \n",
    "    for trial_stats in range(num_trials):\n",
    "        wfms = waveforms_trials[0:trial_stats+1,:,:]\n",
    "\n",
    "        #sum together the sources first\n",
    "        total_trials = np.sum(wfms, axis=1) #now have 50x240 (trial, time)\n",
    "        noise_trials = np.sum(np.delete(wfms, obj=source_index, axis=1), axis=1)\n",
    "        signal_rms = np.sqrt(np.mean(np.square(np.mean(total_trials, axis=0)))) #Avg all trials together, take rms\n",
    "        noise_rms = np.sqrt(np.mean(np.square(np.mean(noise_trials,axis=0)))) #Avg all noise trials together, take rms\n",
    "        snr = (signal_rms / noise_rms)\n",
    "        snr_vec.append(10*np.log10(snr))\n",
    "        signal_vec.append(10*np.log10(signal_rms))\n",
    "        noise_vec.append(10*np.log10(noise_rms))\n",
    "    return snr_vec, signal_vec, noise_vec"
   ]
  },
  {
   "cell_type": "markdown",
   "id": "b65178d3",
   "metadata": {},
   "source": [
    "## Compute car data\n",
    "- Computes CAR on the raw \"peak\" data, and returns the resulting array."
   ]
  },
  {
   "cell_type": "code",
   "execution_count": 6,
   "id": "5fac4eed",
   "metadata": {},
   "outputs": [],
   "source": [
    "def compute_car_data(data_arr):\n",
    "    resulting_data = []\n",
    "    for source in data_arr: #for each row do CAR\n",
    "        ref = np.mean(source)\n",
    "        referenced_row = source - ref\n",
    "        resulting_data.append(referenced_row)\n",
    "    return resulting_data"
   ]
  },
  {
   "cell_type": "markdown",
   "id": "78f3bdc8",
   "metadata": {},
   "source": [
    "# Main runner"
   ]
  },
  {
   "cell_type": "code",
   "execution_count": 7,
   "id": "b3efcce7",
   "metadata": {},
   "outputs": [],
   "source": [
    "data_macro = pd.read_csv(macro_data_path)\n",
    "voltages_macro = data_macro.drop([\"gap\"], axis=1).to_numpy(copy=True)\n",
    "macro_rows, macro_columns = voltages_macro.shape\n",
    "\n",
    "macro_snr_vecs, micro_snr_vecs = [],[]\n",
    "for _ in range(snr_averages):\n",
    "    ## Create Sine Waves (Macro)\n",
    "    macro_waveforms_trials = []\n",
    "    for idx in range(macro_rows):\n",
    "        macro_waveforms_trials.append(create_waveforms(voltages_macro, macro_rms_noise, idx))\n",
    "\n",
    "\n",
    "    ## Calculate SNR for each trial (macro)\n",
    "    macro_snr_vec, macro_signal_vec, macro_noise_vec = [], [], []\n",
    "    for signal_index in range(macro_rows):\n",
    "        snr, signal, noise = calculate_snr_each_trial(macro_waveforms_trials[signal_index], signal_index, macro_rms_noise)\n",
    "        macro_snr_vec.append(snr)\n",
    "        macro_signal_vec.append(signal)\n",
    "        macro_noise_vec.append(noise)\n",
    "    macro_snr_vecs.append(macro_snr_vec.copy())\n",
    "    \n",
    "macro_snr_vec_avg = np.mean(macro_snr_vecs, axis=0)"
   ]
  },
  {
   "cell_type": "markdown",
   "id": "c6bfbfc5",
   "metadata": {},
   "source": [
    "# Create plots"
   ]
  },
  {
   "cell_type": "code",
   "execution_count": 8,
   "id": "f8b84423",
   "metadata": {
    "scrolled": false
   },
   "outputs": [
    {
     "name": "stderr",
     "output_type": "stream",
     "text": [
      "The PostScript backend does not support transparency; partially transparent artists will be rendered opaque.\n",
      "The PostScript backend does not support transparency; partially transparent artists will be rendered opaque.\n",
      "The PostScript backend does not support transparency; partially transparent artists will be rendered opaque.\n",
      "The PostScript backend does not support transparency; partially transparent artists will be rendered opaque.\n",
      "The PostScript backend does not support transparency; partially transparent artists will be rendered opaque.\n",
      "The PostScript backend does not support transparency; partially transparent artists will be rendered opaque.\n",
      "The PostScript backend does not support transparency; partially transparent artists will be rendered opaque.\n",
      "The PostScript backend does not support transparency; partially transparent artists will be rendered opaque.\n"
     ]
    },
    {
     "data": {
      "text/plain": [
       "<Figure size 432x288 with 0 Axes>"
      ]
     },
     "metadata": {},
     "output_type": "display_data"
    },
    {
     "data": {
      "image/png": "[encoded data removed]",
      "text/plain": [
       "<Figure size 1080x360 with 1 Axes>"
      ]
     },
     "metadata": {
      "needs_background": "light"
     },
     "output_type": "display_data"
    }
   ],
   "source": [
    "# First, clear old plot if one exists\n",
    "plt.clf()\n",
    "# Create figures (2 plots)\n",
    "fig, (macro_snr_src_plot) = plt.subplots(1, \n",
    "    figsize=(15,5), gridspec_kw={'width_ratios': [1]})\n",
    "fig.tight_layout()\n",
    "    \n",
    "macro_trial_1_wfm = np.sum(macro_waveforms_trials[waveforms_snr_source_index][0], axis=0)\n",
    "macro_avg_wfms = np.mean(macro_waveforms_trials[waveforms_snr_source_index], axis=0)\n",
    "\n",
    "# Bar chart plot for all sources SNR    \n",
    "# Macro\n",
    "for idx, row in enumerate(macro_snr_vec_avg):\n",
    "    macro_snr_src_plot.bar(idx+1, height=row[num_trials-1], color='r')\n",
    "    macro_snr_src_plot.bar(idx+0.8, height=row[0], color='r', alpha=0.2)\n",
    "\n",
    "macro_snr_src_plot.set_xticks([1,2,3,4,5,6,7,8])\n",
    "macro_snr_src_plot.set_yticks([0,2,4,6,8])\n",
    "macro_snr_src_plot.title.set_text(\"Macro SNR\")\n",
    "\n",
    "plt.savefig('/home/jovyan/ansys_data/images/8-source-2-mm.eps', format='eps', dpi=500)\n",
    "plt.show()"
   ]
  },
  {
   "cell_type": "code",
   "execution_count": null,
   "id": "04b314dd",
   "metadata": {},
   "outputs": [],
   "source": []
  }
 ],
 "metadata": {
  "kernelspec": {
   "display_name": "Python 3 (ipykernel)",
   "language": "python",
   "name": "python3"
  },
  "language_info": {
   "codemirror_mode": {
    "name": "ipython",
    "version": 3
   },
   "file_extension": ".py",
   "mimetype": "text/x-python",
   "name": "python",
   "nbconvert_exporter": "python",
   "pygments_lexer": "ipython3",
   "version": "3.9.5"
  }
 },
 "nbformat": 4,
 "nbformat_minor": 5
}
